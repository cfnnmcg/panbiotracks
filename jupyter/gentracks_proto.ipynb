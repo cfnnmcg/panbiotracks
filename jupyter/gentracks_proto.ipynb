{
 "cells": [
  {
   "cell_type": "code",
   "execution_count": 51,
   "metadata": {},
   "outputs": [
    {
     "ename": "ImportError",
     "evalue": "attempted relative import with no known parent package",
     "output_type": "error",
     "traceback": [
      "\u001b[0;31m---------------------------------------------------------------------------\u001b[0m",
      "\u001b[0;31mImportError\u001b[0m                               Traceback (most recent call last)",
      "Cell \u001b[0;32mIn[51], line 7\u001b[0m\n\u001b[1;32m      5\u001b[0m \u001b[39mimport\u001b[39;00m \u001b[39mshapefile\u001b[39;00m\n\u001b[1;32m      6\u001b[0m \u001b[39mimport\u001b[39;00m \u001b[39mmatplotlib\u001b[39;00m\u001b[39m.\u001b[39;00m\u001b[39mpyplot\u001b[39;00m \u001b[39mas\u001b[39;00m \u001b[39mplt\u001b[39;00m\n\u001b[0;32m----> 7\u001b[0m \u001b[39mfrom\u001b[39;00m \u001b[39m.\u001b[39;00m\u001b[39m.\u001b[39;00m\u001b[39madj_matrix\u001b[39;00m \u001b[39mimport\u001b[39;00m add_edge, add_vertex\n\u001b[1;32m      8\u001b[0m \u001b[39mfrom\u001b[39;00m \u001b[39m.\u001b[39;00m\u001b[39m.\u001b[39;00m\u001b[39mprim\u001b[39;00m \u001b[39mimport\u001b[39;00m prim_algorithm\n\u001b[1;32m      9\u001b[0m \u001b[39mfrom\u001b[39;00m \u001b[39mvincenty\u001b[39;00m \u001b[39mimport\u001b[39;00m vincenty_inverse \u001b[39mas\u001b[39;00m vc\n",
      "\u001b[0;31mImportError\u001b[0m: attempted relative import with no known parent package"
     ]
    }
   ],
   "source": [
    "import os\n",
    "import geopandas as gp\n",
    "import pandas as pd\n",
    "import numpy as np\n",
    "import shapefile\n",
    "import matplotlib.pyplot as plt\n",
    "from ..adj_matrix import add_edge, add_vertex\n",
    "from ..prim import prim_algorithm\n",
    "from vincenty import vincenty_inverse as vc\n",
    "\n",
    "# Initialize variables\n",
    "shp_file = os.path.join(os.path.dirname(__file__), '..', 'outputs',\n",
    "'gentracks_ari-aya')\n",
    "vertices = []\n",
    "vertices_no = 0\n",
    "graph = []\n",
    "edges = []\n",
    "edge_list = []\n",
    "\n",
    "l1 = gp.read_file(\"../assets/pinusquercus20_batch/Pinus_arizonica.shp\")\n",
    "l2 = gp.read_file(\"../assets/pinusquercus20_batch/Pinus_ayacahuite.shp\")\n",
    "\n",
    "internodes = l1.intersection(l2)\n",
    "inex = internodes.explode(index_parts=True)\n",
    "\n",
    "coords_list = list(zip(inex.x.astype(float), inex.y.astype(float)))\n",
    "coords_list_df = pd.DataFrame(coords_list, columns=['lon', 'lat'])\n",
    "coords_list_df = coords_list_df[['lat', 'lon']]\n",
    "\n",
    "# Adding vertices\n",
    "for r in range(coords_list_df.shape[0]):\n",
    "    add_vertex(r)\n",
    "\n",
    "# Adding edges and their weight (lenght)\n",
    "df_list = coords_list_df.values.tolist()\n",
    "for i in range(len(df_list)):\n",
    "    for j in range(len(df_list)):\n",
    "        la = tuple(df_list[i])\n",
    "        lo = tuple(df_list[j])\n",
    "        add_edge(i, j, vc(la, lo))\n",
    "\n",
    "# Prim function to calculate MST\n",
    "print(\"\\nDistancias mínimas:\")\n",
    "prim_algorithm(coords_list_df.shape[0], graph, edges)\n",
    "\n",
    "# Saving SHP\n",
    "# Making an array from the dataframe and loading graph edges\n",
    "coords = coords_list_df.to_numpy()\n",
    "edges = np.array(edges, dtype=np.int32)\n",
    "    \n",
    "# Loading coordinates\n",
    "lat = coords[:,0]\n",
    "lon = coords[:,1]\n",
    "\n",
    "# Plotting the MST\n",
    "for e in edges:\n",
    "    i, j = e\n",
    "    plt.plot([(coords[i, 1], coords[i, 0]),\n",
    "    (coords[j, 1], coords[j, 0])], c = 'r')\n",
    "    edge_list.append([(coords[i, 1], coords[i, 0]),\n",
    "    (coords[j, 1], coords[j, 0])])\n",
    "# plt.show()\n",
    "\n",
    "# Sort the list of edges\n",
    "edge_list = list(sorted(edge_list))\n",
    "\n",
    "# Save the minimum spanning tree\n",
    "w = shapefile.Writer(shp_file)\n",
    "w.line(edge_list)\n",
    "w.field(\"COMMON_ID\", 'C')\n",
    "w.record(\"Point\")\n",
    "w.close()\n"
   ]
  },
  {
   "cell_type": "code",
   "execution_count": 36,
   "metadata": {},
   "outputs": [
    {
     "name": "stdout",
     "output_type": "stream",
     "text": [
      "<class 'osgeo.ogr.Geometry'>\n",
      "9.48556682927651 39.1368546561669\n",
      "9.46173837787432 39.1298387934389\n"
     ]
    }
   ],
   "source": [
    "from osgeo import ogr\n",
    "\n",
    "wkt = 'MULTIPOINT (9.48556682927651 39.1368546561669, 9.46173837787432 39.1298387934389)'\n",
    "multipoint = ogr.CreateGeometryFromWkt(wkt)\n",
    "print(type(multipoint))\n",
    "for i in range(multipoint.GetGeometryCount()):\n",
    "    point = multipoint.GetGeometryRef(i) # <--- Get the geom at index i\n",
    "    print(point.GetX(), point.GetY())"
   ]
  }
 ],
 "metadata": {
  "kernelspec": {
   "display_name": "biogeotrack-VO0SgsdV-py3.10",
   "language": "python",
   "name": "python3"
  },
  "language_info": {
   "codemirror_mode": {
    "name": "ipython",
    "version": 3
   },
   "file_extension": ".py",
   "mimetype": "text/x-python",
   "name": "python",
   "nbconvert_exporter": "python",
   "pygments_lexer": "ipython3",
   "version": "3.10.9"
  },
  "orig_nbformat": 4
 },
 "nbformat": 4,
 "nbformat_minor": 2
}
